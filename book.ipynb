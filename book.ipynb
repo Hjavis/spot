{
 "cells": [
  {
   "cell_type": "code",
   "execution_count": 33,
   "id": "8662f806-7132-4194-a67d-abc410f4fe27",
   "metadata": {},
   "outputs": [
    {
     "name": "stdout",
     "output_type": "stream",
     "text": [
      "C:\\Users\\hjalt\\OneDrive\\Dokumente\\GitHub\\spot\n",
      "['.ipynb_checkpoints', 'Notebook test', 'Sim0-test', 'spot']\n"
     ]
    }
   ],
   "source": [
    "import pandas as pd\n",
    "import numpy as np\n",
    "import matplotlib as plt\n",
    "import sys\n",
    "import os\n",
    "print(os.getcwd())   \n",
    "print(os.listdir('..'))  \n",
    "\n"
   ]
  },
  {
   "cell_type": "code",
   "execution_count": 13,
   "id": "26f5ecc2-5bc1-4fc1-b429-7a11fa2e5be2",
   "metadata": {},
   "outputs": [
    {
     "name": "stdout",
     "output_type": "stream",
     "text": [
      "              HourUTC PriceArea  SpotPriceEUR  Forecast1Hour_Offshore Wind  \\\n",
      "0 2022-09-01 00:00:00       DK1    486.339996                    62.916668   \n",
      "1 2022-09-01 00:00:00       DK2    486.339996                    16.750000   \n",
      "2 2022-09-01 01:00:00       DK1    480.019989                    24.250000   \n",
      "3 2022-09-01 01:00:00       DK2    480.019989                    12.000000   \n",
      "4 2022-09-01 02:00:00       DK1    495.179993                    12.375000   \n",
      "5 2022-09-01 02:00:00       DK2    495.179993                     8.208333   \n",
      "6 2022-09-01 03:00:00       DK1    532.799988                    24.041666   \n",
      "7 2022-09-01 03:00:00       DK2    532.799988                     8.041667   \n",
      "8 2022-09-01 04:00:00       DK1    644.710022                    38.166668   \n",
      "9 2022-09-01 04:00:00       DK2    644.710022                    14.791667   \n",
      "\n",
      "   Forecast1Hour_Onshore Wind  Forecast1Hour_Solar  \\\n",
      "0                  130.541672             0.000417   \n",
      "1                   54.500000             0.000000   \n",
      "2                  115.791664             0.000000   \n",
      "3                   41.625000             0.000000   \n",
      "4                  100.375000             0.000000   \n",
      "5                   33.375000             0.000000   \n",
      "6                  152.875000             0.137083   \n",
      "7                   43.166668             0.116250   \n",
      "8                  179.708328             8.475417   \n",
      "9                   45.333332             5.845000   \n",
      "\n",
      "   Forecast5Hour_Offshore Wind  Forecast5Hour_Onshore Wind  \\\n",
      "0                   103.916664                  148.208328   \n",
      "1                    17.583334                   40.958332   \n",
      "2                    75.458336                  148.625000   \n",
      "3                     9.250000                   42.666668   \n",
      "4                    60.250000                  111.208336   \n",
      "5                    10.500000                   38.333332   \n",
      "6                    50.791668                  104.208336   \n",
      "7                    11.166667                   45.000000   \n",
      "8                    39.791668                  104.708336   \n",
      "9                    10.625000                   40.708332   \n",
      "\n",
      "   Forecast5Hour_Solar  ForecastDayAhead_Offshore Wind  \\\n",
      "0             0.000000                      100.541664   \n",
      "1             0.000000                       21.666666   \n",
      "2             0.000000                       78.208336   \n",
      "3             0.000000                       15.750000   \n",
      "4             0.000000                       70.125000   \n",
      "5             0.000000                       14.583333   \n",
      "6             0.140833                       70.916664   \n",
      "7             0.111667                       14.125000   \n",
      "8             8.602500                       66.666664   \n",
      "9             6.004583                       15.291667   \n",
      "\n",
      "   ForecastDayAhead_Onshore Wind  ForecastDayAhead_Solar  \\\n",
      "0                     111.166664                0.000000   \n",
      "1                      40.583332                0.000000   \n",
      "2                      82.250000                0.000000   \n",
      "3                      35.583332                0.000000   \n",
      "4                      72.083336                0.000000   \n",
      "5                      30.041666                0.000000   \n",
      "6                      77.125000                0.140833   \n",
      "7                      23.958334                0.120833   \n",
      "8                      73.583336                8.528334   \n",
      "9                      21.541666                5.998333   \n",
      "\n",
      "   ForecastIntraday_Offshore Wind  ForecastIntraday_Onshore Wind  \\\n",
      "0                             NaN                            NaN   \n",
      "1                             NaN                            NaN   \n",
      "2                             NaN                            NaN   \n",
      "3                             NaN                            NaN   \n",
      "4                             NaN                            NaN   \n",
      "5                             NaN                            NaN   \n",
      "6                             NaN                            NaN   \n",
      "7                             NaN                            NaN   \n",
      "8                             NaN                            NaN   \n",
      "9                             NaN                            NaN   \n",
      "\n",
      "   ForecastIntraday_Solar  \n",
      "0                     NaN  \n",
      "1                     NaN  \n",
      "2                     NaN  \n",
      "3                     NaN  \n",
      "4                     NaN  \n",
      "5                     NaN  \n",
      "6                     NaN  \n",
      "7                     NaN  \n",
      "8                     NaN  \n",
      "9                     NaN  \n"
     ]
    }
   ],
   "source": [
    "df[\"HourUTC\"] = pd.to_datetime(df[\"HourUTC\"])\n",
    "print(df.head(5))\n"
   ]
  },
  {
   "cell_type": "markdown",
   "id": "947b923c-d2cf-45bc-9c58-7991fe8a3bd5",
   "metadata": {},
   "source": [
    "Undgå data leakage: Split data op i træning og validering, før NaN håndtering."
   ]
  },
  {
   "cell_type": "code",
   "execution_count": 24,
   "id": "94d850dd-17b2-48f1-a366-94e87fd8f3a1",
   "metadata": {},
   "outputs": [
    {
     "name": "stdout",
     "output_type": "stream",
     "text": [
      "     HourUTC PriceArea  SpotPriceEUR  Forecast1Hour_Offshore Wind  \\\n",
      "0 2022-09-01       DK1    486.339996                    62.916668   \n",
      "1 2022-09-01       DK2    486.339996                    16.750000   \n",
      "\n",
      "   Forecast1Hour_Onshore Wind  Forecast1Hour_Solar  \\\n",
      "0                  130.541672             0.000417   \n",
      "1                   54.500000             0.000000   \n",
      "\n",
      "   Forecast5Hour_Offshore Wind  Forecast5Hour_Onshore Wind  \\\n",
      "0                   103.916664                  148.208328   \n",
      "1                    17.583334                   40.958332   \n",
      "\n",
      "   Forecast5Hour_Solar  ForecastDayAhead_Offshore Wind  \\\n",
      "0                  0.0                      100.541664   \n",
      "1                  0.0                       21.666666   \n",
      "\n",
      "   ForecastDayAhead_Onshore Wind  ForecastDayAhead_Solar  \\\n",
      "0                     111.166664                     0.0   \n",
      "1                      40.583332                     0.0   \n",
      "\n",
      "   ForecastIntraday_Offshore Wind  ForecastIntraday_Onshore Wind  \\\n",
      "0                             NaN                            NaN   \n",
      "1                             NaN                            NaN   \n",
      "\n",
      "   ForecastIntraday_Solar  \n",
      "0                     NaN  \n",
      "1                     NaN  \n",
      "         HourUTC PriceArea  SpotPriceEUR  Forecast1Hour_Offshore Wind  \\\n",
      "43776 2025-03-01       DK1    120.379997                    86.083336   \n",
      "43777 2025-03-01       DK2    120.379997                   151.750000   \n",
      "\n",
      "       Forecast1Hour_Onshore Wind  Forecast1Hour_Solar  \\\n",
      "43776                  124.125000                  0.0   \n",
      "43777                   44.166668                  0.0   \n",
      "\n",
      "       Forecast5Hour_Offshore Wind  Forecast5Hour_Onshore Wind  \\\n",
      "43776                   112.083336                  123.875000   \n",
      "43777                   226.041672                   30.333334   \n",
      "\n",
      "       Forecast5Hour_Solar  ForecastDayAhead_Offshore Wind  \\\n",
      "43776                  0.0                      132.625000   \n",
      "43777                  0.0                      246.541672   \n",
      "\n",
      "       ForecastDayAhead_Onshore Wind  ForecastDayAhead_Solar  \\\n",
      "43776                          115.0                     0.0   \n",
      "43777                           36.0                     0.0   \n",
      "\n",
      "       ForecastIntraday_Offshore Wind  ForecastIntraday_Onshore Wind  \\\n",
      "43776                       84.958336                     119.375000   \n",
      "43777                      180.833328                      51.416668   \n",
      "\n",
      "       ForecastIntraday_Solar  \n",
      "43776                0.044583  \n",
      "43777                0.000000  \n",
      "--------------------------------------------------------\n",
      "Train dataframe has a length of 43776 which is 912.0 days\n",
      "Validation dataframe has a length of 8880 which is 185.0\n"
     ]
    }
   ],
   "source": [
    "df_train = df[df['HourUTC'] < df['HourUTC'].min() + pd.DateOffset(months=30)]\n",
    "df_walk_forward = df[df['HourUTC'] >= df['HourUTC'].min() + pd.DateOffset(months=30)]\n",
    "print(df_train.head(2))\n",
    "print(df_walk_forward.head(2))\n",
    "\n",
    "#Hvor mange dage (24 timer i døgnet, DK1 og DK2...) dag=48index\n",
    "print('--------------------------------------------------------')\n",
    "print(f'Train dataframe has a length of {len(df_train)} which is {len(df_train)/(24 * 2)} days')\n",
    "print(f'Validation dataframe has a length of {len(df_walk_forward)} which is {len(df_walk_forward)/(24*2)}')\n"
   ]
  },
  {
   "cell_type": "markdown",
   "id": "6dbc86c8-3c62-48c1-ab8f-3492178c0e4c",
   "metadata": {},
   "source": [
    "Plot Spotprice DK1 og DK2"
   ]
  },
  {
   "cell_type": "code",
   "execution_count": 30,
   "id": "c76db7b8-cd1f-469c-a23c-af0c8ab567f4",
   "metadata": {},
   "outputs": [
    {
     "ename": "NameError",
     "evalue": "name 'plt' is not defined",
     "output_type": "error",
     "traceback": [
      "\u001b[31m---------------------------------------------------------------------------\u001b[39m",
      "\u001b[31mNameError\u001b[39m                                 Traceback (most recent call last)",
      "\u001b[36mCell\u001b[39m\u001b[36m \u001b[39m\u001b[32mIn[30]\u001b[39m\u001b[32m, line 4\u001b[39m\n\u001b[32m      1\u001b[39m dk1_spotseries = df.loc[df[\u001b[33m'\u001b[39m\u001b[33mPriceArea\u001b[39m\u001b[33m'\u001b[39m] == \u001b[33m'\u001b[39m\u001b[33mDK1\u001b[39m\u001b[33m'\u001b[39m, \u001b[33m'\u001b[39m\u001b[33mSpotPriceEUR\u001b[39m\u001b[33m'\u001b[39m]\n\u001b[32m      2\u001b[39m dk2_spotseries = df.loc[df[\u001b[33m'\u001b[39m\u001b[33mPriceArea\u001b[39m\u001b[33m'\u001b[39m] == \u001b[33m'\u001b[39m\u001b[33mDK2\u001b[39m\u001b[33m'\u001b[39m, \u001b[33m'\u001b[39m\u001b[33mSpotPriceEUR\u001b[39m\u001b[33m'\u001b[39m]\n\u001b[32m----> \u001b[39m\u001b[32m4\u001b[39m \u001b[43mplt\u001b[49m.figure(figzide=(\u001b[32m12\u001b[39m,\u001b[32m8\u001b[39m))\n\u001b[32m      5\u001b[39m plt.xlabel(\u001b[33m'\u001b[39m\u001b[33mDate\u001b[39m\u001b[33m'\u001b[39m)\n\u001b[32m      6\u001b[39m plt.ylabel(\u001b[33m'\u001b[39m\u001b[33mSpot Price in EUR per MWh\u001b[39m\u001b[33m'\u001b[39m)\n",
      "\u001b[31mNameError\u001b[39m: name 'plt' is not defined"
     ]
    }
   ],
   "source": [
    "dk1_spotseries = df.loc[df['PriceArea'] == 'DK1', 'SpotPriceEUR']\n",
    "dk2_spotseries = df.loc[df['PriceArea'] == 'DK2', 'SpotPriceEUR']\n",
    "\n",
    "plt.figure(figzide=(12,8))\n",
    "plt.xlabel('Date')\n",
    "plt.ylabel('Spot Price in EUR per MWh')\n",
    "plt.legend('DK1 and DK2 Spot Prices')\n",
    "plt.plot(dk1_spotseries, dk2_spotseries)\n",
    "plt.show()\n"
   ]
  },
  {
   "cell_type": "code",
   "execution_count": null,
   "id": "497adbaa-341e-479c-b235-0588265d2b70",
   "metadata": {},
   "outputs": [],
   "source": []
  }
 ],
 "metadata": {
  "kernelspec": {
   "display_name": "Python 3 (ipykernel)",
   "language": "python",
   "name": "python3"
  },
  "language_info": {
   "codemirror_mode": {
    "name": "ipython",
    "version": 3
   },
   "file_extension": ".py",
   "mimetype": "text/x-python",
   "name": "python",
   "nbconvert_exporter": "python",
   "pygments_lexer": "ipython3",
   "version": "3.13.5"
  }
 },
 "nbformat": 4,
 "nbformat_minor": 5
}
